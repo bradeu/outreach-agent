{
 "cells": [
  {
   "cell_type": "code",
   "execution_count": 35,
   "metadata": {},
   "outputs": [],
   "source": [
    "from langchain_experimental.text_splitter import SemanticChunker\n",
    "from langchain_openai.embeddings import OpenAIEmbeddings\n",
    "import os\n",
    "from dotenv import load_dotenv\n",
    "\n",
    "load_dotenv()\n",
    "\n",
    "openai_api_key = os.getenv('OPENAI_API_KEY')\n",
    "\n",
    "text_splitter = SemanticChunker(OpenAIEmbeddings(openai_api_key=openai_api_key), breakpoint_threshold_type=\"gradient\")\n"
   ]
  },
  {
   "cell_type": "code",
   "execution_count": 36,
   "metadata": {},
   "outputs": [],
   "source": [
    "text = \"\"\"\n",
    "The University of British Columbia (UBC) is one of Canada’s most prestigious research universities and consistently ranks among the top 40 universities globally. Founded in 1908, UBC is British Columbia’s oldest university, initially established to serve as a provincial institution for higher education and research. The Vancouver campus, located on the traditional, ancestral, and unceded territory of the Musqueam people, spans over 400 hectares, featuring breathtaking views of the Pacific Ocean, mountains, and forests. With nearly 70,000 students across its Vancouver and Okanagan campuses, UBC is incredibly diverse, attracting students from over 150 countries.\n",
    "\n",
    "UBC is also home to world-renowned facilities, including the TRIUMF particle physics laboratory, one of the world's leading subatomic physics research centers, and the Peter Wall Institute for Advanced Studies, which fosters innovative, interdisciplinary research. The university’s alumni include prominent figures such as Canadian Prime Minister Justin Trudeau, Nobel laureates, Rhodes Scholars, and Olympic athletes. Its strong focus on sustainability, innovation, and global engagement makes UBC a leader in creating solutions to some of the world’s most pressing challenges, from climate change to technological advancement.\n",
    "\"\"\""
   ]
  },
  {
   "cell_type": "code",
   "execution_count": 37,
   "metadata": {},
   "outputs": [],
   "source": [
    "docs = text_splitter.create_documents([text])\n"
   ]
  },
  {
   "cell_type": "code",
   "execution_count": 38,
   "metadata": {},
   "outputs": [
    {
     "data": {
      "text/plain": [
       "[Document(metadata={}, page_content='\\nThe University of British Columbia (UBC) is one of Canada’s most prestigious research universities and consistently ranks among the top 40 universities globally.'),\n",
       " Document(metadata={}, page_content=\"Founded in 1908, UBC is British Columbia’s oldest university, initially established to serve as a provincial institution for higher education and research. The Vancouver campus, located on the traditional, ancestral, and unceded territory of the Musqueam people, spans over 400 hectares, featuring breathtaking views of the Pacific Ocean, mountains, and forests. With nearly 70,000 students across its Vancouver and Okanagan campuses, UBC is incredibly diverse, attracting students from over 150 countries. UBC is also home to world-renowned facilities, including the TRIUMF particle physics laboratory, one of the world's leading subatomic physics research centers, and the Peter Wall Institute for Advanced Studies, which fosters innovative, interdisciplinary research. The university’s alumni include prominent figures such as Canadian Prime Minister Justin Trudeau, Nobel laureates, Rhodes Scholars, and Olympic athletes. Its strong focus on sustainability, innovation, and global engagement makes UBC a leader in creating solutions to some of the world’s most pressing challenges, from climate change to technological advancement. \")]"
      ]
     },
     "execution_count": 38,
     "metadata": {},
     "output_type": "execute_result"
    }
   ],
   "source": [
    "docs"
   ]
  },
  {
   "cell_type": "code",
   "execution_count": 14,
   "metadata": {},
   "outputs": [
    {
     "name": "stdout",
     "output_type": "stream",
     "text": [
      "The use of AI in healthcare is growing rapidly. From diagnostics to personalized medicine, AI is making a big impact. \n"
     ]
    }
   ],
   "source": [
    "print(docs[1].page_content)"
   ]
  }
 ],
 "metadata": {
  "kernelspec": {
   "display_name": "agent",
   "language": "python",
   "name": "python3"
  },
  "language_info": {
   "codemirror_mode": {
    "name": "ipython",
    "version": 3
   },
   "file_extension": ".py",
   "mimetype": "text/x-python",
   "name": "python",
   "nbconvert_exporter": "python",
   "pygments_lexer": "ipython3",
   "version": "3.9.20"
  }
 },
 "nbformat": 4,
 "nbformat_minor": 2
}
