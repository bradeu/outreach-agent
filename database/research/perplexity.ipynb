{
 "cells": [
  {
   "cell_type": "code",
   "execution_count": 1,
   "metadata": {},
   "outputs": [],
   "source": [
    "import requests\n",
    "import os\n",
    "from dotenv import load_dotenv\n",
    "\n",
    "load_dotenv()\n",
    "\n",
    "perplexity_api_key = os.getenv('PERPLEXITY_API_KEY')\n",
    "\n",
    "\n",
    "\n",
    "def send_to_perplexity(user_query):\n",
    "    url = \"https://api.perplexity.ai/chat/completions\"\n",
    "\n",
    "    system_content = (\n",
    "        \"Your task is to improve the following user queries to make them more effective for \"\n",
    "        \"searching in a vector database using OpenAIEmbeddings with a vector dimension of 1536.\\n\\n\"\n",
    "        \"Instructions:\\n\"\n",
    "        \"- Rewrite the query to include related terms if they improve relevance.\\n\"\n",
    "        \"- Resolve any ambiguous terms to make the query more specific.\\n\"\n",
    "        \"- Focus on key concepts related to the user's intent.\\n\\n\"\n",
    "        \"Return only the optimized query. Do not provide an answer to the question.\"\n",
    "    )\n",
    "\n",
    "    payload = {\n",
    "        \"model\": \"llama-3.1-sonar-small-128k-chat\",\n",
    "        \"messages\": [\n",
    "            {\n",
    "                \"role\": \"system\",\n",
    "                \"content\": system_content\n",
    "            },\n",
    "            {\n",
    "                \"role\": \"user\",\n",
    "                \"content\": user_query\n",
    "            }\n",
    "        ],\n",
    "        # \"max_tokens\": 100,\n",
    "    }\n",
    "    headers = {\n",
    "        \"Authorization\": f\"Bearer {perplexity_api_key}\",\n",
    "        \"Content-Type\": \"application/json\"\n",
    "    }\n",
    "\n",
    "    response = requests.request(\"POST\", url, json=payload, headers=headers)\n",
    "    perplexity_data = response.json()\n",
    "    return perplexity_data['choices'][0].get('message').get('content')"
   ]
  },
  {
   "cell_type": "code",
   "execution_count": 2,
   "metadata": {},
   "outputs": [
    {
     "data": {
      "text/plain": [
       "'Search for recent advancements in natural language processing techniques and applications.'"
      ]
     },
     "execution_count": 2,
     "metadata": {},
     "output_type": "execute_result"
    }
   ],
   "source": [
    "send_to_perplexity(\"Search for recent advancements in natural language processing\")"
   ]
  }
 ],
 "metadata": {
  "kernelspec": {
   "display_name": "agent",
   "language": "python",
   "name": "python3"
  },
  "language_info": {
   "codemirror_mode": {
    "name": "ipython",
    "version": 3
   },
   "file_extension": ".py",
   "mimetype": "text/x-python",
   "name": "python",
   "nbconvert_exporter": "python",
   "pygments_lexer": "ipython3",
   "version": "3.9.20"
  }
 },
 "nbformat": 4,
 "nbformat_minor": 2
}
