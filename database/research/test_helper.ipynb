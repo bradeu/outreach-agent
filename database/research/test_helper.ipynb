{
 "cells": [
  {
   "cell_type": "code",
   "execution_count": 1,
   "metadata": {},
   "outputs": [
    {
     "name": "stderr",
     "output_type": "stream",
     "text": [
      "/opt/anaconda3/envs/agent/lib/python3.8/site-packages/pinecone/data/index.py:1: TqdmWarning: IProgress not found. Please update jupyter and ipywidgets. See https://ipywidgets.readthedocs.io/en/stable/user_install.html\n",
      "  from tqdm.autonotebook import tqdm\n",
      "/opt/anaconda3/envs/agent/lib/python3.8/site-packages/transformers/tokenization_utils_base.py:1617: FutureWarning: `clean_up_tokenization_spaces` was not set. It will be set to `True` by default. This behavior will be deprecated in transformers v4.45, and will be then set to `False` by default. For more details check this issue: https://github.com/huggingface/transformers/issues/31884\n",
      "  warnings.warn(\n"
     ]
    }
   ],
   "source": [
    "import os\n",
    "from dotenv import load_dotenv\n",
    "from pinecone import Pinecone\n",
    "import time\n",
    "from nltk.tokenize import sent_tokenize\n",
    "from sentence_transformers import SentenceTransformer\n",
    "import uuid\n",
    "\n",
    "load_dotenv()\n",
    "\n",
    "api_key = os.getenv('API_KEY')\n",
    "pc = Pinecone(api_key=api_key)\n",
    "model = SentenceTransformer('sentence-transformers/all-MiniLM-L6-v2')\n",
    "\n",
    "class Helper:\n",
    "    def upsert_method(self, vector_list, index_name=\"test1\", namespace=\"ns1\"):\n",
    "        while not pc.describe_index(index_name).status['ready']:\n",
    "            time.sleep(1)\n",
    "\n",
    "        index = pc.Index(index_name)\n",
    "\n",
    "        vectors = []\n",
    "        for v in vector_list:\n",
    "            vectors.append((str(uuid.uuid4()), v['embedding'], {'sentence' : v['sentence']}))\n",
    "\n",
    "        return index.upsert(\n",
    "            vectors=vectors,\n",
    "            namespace=namespace\n",
    "        )\n",
    "\n",
    "    def query_method(self, vector_list, top_k=10, index_name=\"test1\", namespace=\"ns1\"):\n",
    "        while not pc.describe_index(index_name).status['ready']:\n",
    "            time.sleep(1)\n",
    "\n",
    "        index = pc.Index(index_name)\n",
    "\n",
    "        \n",
    "        result = []\n",
    "        seen_ids = set()\n",
    "\n",
    "        for v in vector_list:\n",
    "            res = index.query(\n",
    "                namespace=namespace,\n",
    "                vector=v['embedding'].tolist(),\n",
    "                top_k=top_k,\n",
    "                include_values=True,\n",
    "                include_metadata=True,\n",
    "            )\n",
    "\n",
    "            for match in res['matches']:\n",
    "                if match['id'] not in seen_ids:\n",
    "                    result.append(match['metadata']['sentence'])\n",
    "                    seen_ids.add(match['id'])\n",
    "\n",
    "        return result\n",
    "    \n",
    "    def embed_sentences(self, sentences):\n",
    "        embeddings = model.encode(sentences)\n",
    "        embed_list = []\n",
    "        for i in range(len(embeddings)):\n",
    "            embed_list.append({'embedding' : embeddings[i], 'sentence' : sentences[i]})\n",
    "        return embed_list\n",
    "\n",
    "    def split_text_into_sentences(self, text):\n",
    "        sentences = sent_tokenize(text)\n",
    "        return sentences\n",
    "    \n",
    "helper_obj = Helper()"
   ]
  },
  {
   "cell_type": "code",
   "execution_count": 2,
   "metadata": {},
   "outputs": [],
   "source": [
    "text = \"Hello! How are you doing today? I hope you're having a great day. Let's learn Python.\"\n",
    "sentences = helper_obj.split_text_into_sentences(text)\n",
    "vector = helper_obj.embed_sentences(sentences)"
   ]
  },
  {
   "cell_type": "code",
   "execution_count": 3,
   "metadata": {},
   "outputs": [
    {
     "data": {
      "text/plain": [
       "{'upserted_count': 4}"
      ]
     },
     "execution_count": 3,
     "metadata": {},
     "output_type": "execute_result"
    }
   ],
   "source": [
    "res = helper_obj.upsert_method(vector, \"test1\", \"ns1\")\n",
    "res"
   ]
  },
  {
   "cell_type": "code",
   "execution_count": 9,
   "metadata": {},
   "outputs": [
    {
     "data": {
      "text/plain": [
       "{'upserted_count': 4}"
      ]
     },
     "execution_count": 9,
     "metadata": {},
     "output_type": "execute_result"
    }
   ],
   "source": [
    "res.to_dict()"
   ]
  },
  {
   "cell_type": "code",
   "execution_count": 4,
   "metadata": {},
   "outputs": [
    {
     "data": {
      "text/plain": [
       "4"
      ]
     },
     "execution_count": 4,
     "metadata": {},
     "output_type": "execute_result"
    }
   ],
   "source": [
    "query_result = helper_obj.query_method(vector)\n",
    "len(query_result)"
   ]
  },
  {
   "cell_type": "code",
   "execution_count": 5,
   "metadata": {},
   "outputs": [
    {
     "data": {
      "text/plain": [
       "['Hello!',\n",
       " 'How are you doing today?',\n",
       " \"I hope you're having a great day.\",\n",
       " \"Let's learn Python.\"]"
      ]
     },
     "execution_count": 5,
     "metadata": {},
     "output_type": "execute_result"
    }
   ],
   "source": [
    "query_result"
   ]
  },
  {
   "cell_type": "code",
   "execution_count": null,
   "metadata": {},
   "outputs": [],
   "source": []
  }
 ],
 "metadata": {
  "kernelspec": {
   "display_name": "agent",
   "language": "python",
   "name": "python3"
  },
  "language_info": {
   "codemirror_mode": {
    "name": "ipython",
    "version": 3
   },
   "file_extension": ".py",
   "mimetype": "text/x-python",
   "name": "python",
   "nbconvert_exporter": "python",
   "pygments_lexer": "ipython3",
   "version": "3.8.20"
  }
 },
 "nbformat": 4,
 "nbformat_minor": 2
}
