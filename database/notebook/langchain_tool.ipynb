{
 "cells": [
  {
   "cell_type": "code",
   "execution_count": 20,
   "metadata": {},
   "outputs": [
    {
     "name": "stdout",
     "output_type": "stream",
     "text": [
      "query_tool\n",
      "This is a query tool\n",
      "{'self': {'title': 'Self'}, 'v__args': {'default': None, 'items': {}, 'title': 'V  Args', 'type': 'array'}}\n",
      "<class 'langchain_core.tools.structured.StructuredTool'>\n"
     ]
    }
   ],
   "source": [
    "from langchain_core.tools import tool\n",
    "from langchain_core.messages import AnyMessage, SystemMessage, HumanMessage, ToolMessage\n",
    "\n",
    "@tool\n",
    "def query_tool(self, args: dict) -> ToolMessage:\n",
    "    \"\"\"This is a query tool\"\"\"\n",
    "    sub_queries = args.get(\"sub_queries\", [])\n",
    "    top_k = args.get(\"top_k\", None)\n",
    "\n",
    "    # if not isinstance(sub_queries, list):\n",
    "    #     raise ValueError(\"Expected 'sub_queries' to be a list of strings.\")\n",
    "    \n",
    "    # res = []\n",
    "    # for sub_query in sub_queries:\n",
    "    #     sentences = db_helper_obj.split_text_into_sentences(sub_query)\n",
    "    #     vector = db_helper_obj.embed_sentences_openai(sentences)\n",
    "\n",
    "    #     if top_k:\n",
    "    #         res.append(db_helper_obj.query_method(vector, top_k))\n",
    "    #     else:\n",
    "    #         res.append(db_helper_obj.query_method(vector))\n",
    "    \n",
    "    # return ToolMessage(name=self.name, content={\"results\": res})\n",
    "\n",
    "    return sub_queries, top_k\n",
    "\n",
    "print(query_tool.name)\n",
    "print(query_tool.description)\n",
    "print(query_tool.args)\n",
    "print(type(query_tool))"
   ]
  },
  {
   "cell_type": "code",
   "execution_count": null,
   "metadata": {},
   "outputs": [],
   "source": [
    "query_tool.invoke({\"top\"})"
   ]
  }
 ],
 "metadata": {
  "kernelspec": {
   "display_name": "agent",
   "language": "python",
   "name": "python3"
  },
  "language_info": {
   "codemirror_mode": {
    "name": "ipython",
    "version": 3
   },
   "file_extension": ".py",
   "mimetype": "text/x-python",
   "name": "python",
   "nbconvert_exporter": "python",
   "pygments_lexer": "ipython3",
   "version": "3.9.20"
  }
 },
 "nbformat": 4,
 "nbformat_minor": 2
}
